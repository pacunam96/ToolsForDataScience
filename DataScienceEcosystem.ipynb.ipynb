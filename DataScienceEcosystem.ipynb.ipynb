{
  "metadata": {
    "kernelspec": {
      "name": "python",
      "display_name": "Python (Pyodide)",
      "language": "python"
    },
    "language_info": {
      "codemirror_mode": {
        "name": "python",
        "version": 3
      },
      "file_extension": ".py",
      "mimetype": "text/x-python",
      "name": "python",
      "nbconvert_exporter": "python",
      "pygments_lexer": "ipython3",
      "version": "3.8"
    }
  },
  "nbformat_minor": 4,
  "nbformat": 4,
  "cells": [
    {
      "cell_type": "markdown",
      "source": "# Data Science Tools and Ecosystem",
      "metadata": {}
    },
    {
      "cell_type": "markdown",
      "source": "## Welcome to a notebook where you will find summarized information about Data Science Tools and Ecosystem. ",
      "metadata": {}
    },
    {
      "cell_type": "markdown",
      "source": "### Objectives:\n* List of some popular languages in Data Science\n* Evaluate arithmetic expressions in Python\n* Enumerate open source development environment tools used in data science.",
      "metadata": {}
    },
    {
      "cell_type": "markdown",
      "source": "### In Data Science we use some languages, the most popular languages at the moment are:\n#### 1. Python\n#### 2. R\n#### 3. SQL (Structured Query Language)\n#### 4. Java\n#### 5. Julia\n#### 6. Scala\n#### 7. JavaScript\n#### 8. Swift",
      "metadata": {}
    },
    {
      "cell_type": "markdown",
      "source": "### Also, we can find some popular libraries used by Data Sciences: \n#### 1. Tensor Flow.\n#### 2. Ciencia.\n#### 3. Pandas.\n#### 4. NumPy.\n#### 5. Scikit-learn.\n#### 6. Scrapy.\n#### 7. PyTorch.",
      "metadata": {}
    },
    {
      "cell_type": "markdown",
      "source": "|Data Science Tools|\n|:----------------:|\n|Jupyter Notebooks |\n|Pandas            |\n|TensorFlow        |\n\n",
      "metadata": {}
    },
    {
      "cell_type": "markdown",
      "source": "### Here are some examples of how to evaluate arithmetic expressions in Python",
      "metadata": {}
    },
    {
      "cell_type": "code",
      "source": "## Here's a simple arithmetic expression to multiply and then add integers:\n(3*4)+5",
      "metadata": {
        "trusted": true
      },
      "outputs": [
        {
          "execution_count": 1,
          "output_type": "execute_result",
          "data": {
            "text/plain": "17"
          },
          "metadata": {}
        }
      ],
      "execution_count": 1
    },
    {
      "cell_type": "code",
      "source": "## This expression converts 200 minutes to hours by dividing by 60:\n200/60 ",
      "metadata": {
        "trusted": true
      },
      "outputs": [
        {
          "execution_count": 5,
          "output_type": "execute_result",
          "data": {
            "text/plain": "3.3333333333333335"
          },
          "metadata": {}
        }
      ],
      "execution_count": 5
    },
    {
      "cell_type": "markdown",
      "source": "## Author \nPaula Andrea Acuña Merlano\n",
      "metadata": {}
    },
    {
      "cell_type": "code",
      "source": "",
      "metadata": {
        "trusted": true
      },
      "outputs": [],
      "execution_count": null
    }
  ]
}